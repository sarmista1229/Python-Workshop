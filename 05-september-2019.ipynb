{
 "cells": [
  {
   "cell_type": "code",
   "execution_count": 18,
   "metadata": {
    "scrolled": true
   },
   "outputs": [
    {
     "name": "stdout",
     "output_type": "stream",
     "text": [
      "85\n",
      "Lowerbound80\n",
      "Upperbound100\n",
      "Given number is not in range\n"
     ]
    }
   ],
   "source": [
    "#to check whether the given number is in given range or not\n",
    "def check(n):\n",
    "    Lb=int(input(\"Lowerbound\"))\n",
    "    Ub=int(input(\"Upperbound\"))\n",
    "    if (Lb>=n)and(n<=Ub):\n",
    "        print(\"Given number is in range\")\n",
    "    else:\n",
    "        print(\"Given number is not in range\")\n",
    "check(int(input()))       "
   ]
  },
  {
   "cell_type": "code",
   "execution_count": 20,
   "metadata": {},
   "outputs": [
    {
     "name": "stdout",
     "output_type": "stream",
     "text": [
      "6\n"
     ]
    }
   ],
   "source": [
    "# Calculate the number of digits in a number\n",
    "def count(n):\n",
    "    n=int(input(\"Enter number\"))\n",
    "    count=0\n",
    "    while n > 0:\n",
    "        n=n//10\n",
    "        count+=1\n",
    "    print(count)\n",
    "count(425875)    "
   ]
  },
  {
   "cell_type": "code",
   "execution_count": 5,
   "metadata": {},
   "outputs": [
    {
     "name": "stdout",
     "output_type": "stream",
     "text": [
      "lower bound2000\n",
      "upper bound2005\n",
      "year is within the loop 2004\n"
     ]
    }
   ],
   "source": [
    "#print the leap year within the given range\n",
    "def check():\n",
    "    lb=int(input(\"lower bound\"))\n",
    "    ub=int(input(\"upper bound\"))\n",
    "    for i in range(lb,ub):\n",
    "        if(i%4==0 and i%100!=0):\n",
    "            print(\"year is within the loop\",i)\n",
    "check()"
   ]
  },
  {
   "cell_type": "code",
   "execution_count": 18,
   "metadata": {},
   "outputs": [],
   "source": [
    "#program to check whether the given number is prime or not\n",
    "def prime(n):\n",
    "    for i in range(2,n):\n",
    "        if (n%i==0):\n",
    "            return False\n",
    "    return True\n",
    "#prime(3)"
   ]
  },
  {
   "cell_type": "code",
   "execution_count": 21,
   "metadata": {},
   "outputs": [
    {
     "name": "stdout",
     "output_type": "stream",
     "text": [
      "lowerbound1\n",
      "upperbound10\n",
      "Enter a number5\n",
      "1\n",
      "2\n",
      "3\n",
      "5\n",
      "7\n"
     ]
    }
   ],
   "source": [
    "#prime numbers in a range(2,50)\n",
    "def check(n):\n",
    "    lb=int(input(\"lowerbound\"))\n",
    "    ub=int(input(\"upperbound\"))\n",
    "    n=int(input(\"Enter a number\"))\n",
    "    for i in range(lb,ub+1):\n",
    "        if prime(i):\n",
    "            print(i)\n",
    "check(5)            "
   ]
  },
  {
   "cell_type": "code",
   "execution_count": 29,
   "metadata": {},
   "outputs": [
    {
     "name": "stdout",
     "output_type": "stream",
     "text": [
      "False\n"
     ]
    }
   ],
   "source": [
    "#check if given string is equal to number\n",
    "n=\"one\"\n",
    "s=1\n",
    "if str(s)==n:\n",
    "    print(True)\n",
    "else:\n",
    "    print(False)"
   ]
  },
  {
   "cell_type": "code",
   "execution_count": 73,
   "metadata": {},
   "outputs": [],
   "source": [
    "##perfect number\n",
    "def perfect(n):\n",
    "    #n=int(input(\"enter a number\"))\n",
    "    sum=0\n",
    "    for i in range(1,n):\n",
    "        if(n%i==0):\n",
    "            sum=n\n",
    "    if(sum==n):\n",
    "        #print(\"perfect number\")\n",
    "    else:\n",
    "        print(\"not a perfect number\")\n",
    "#perfect()"
   ]
  },
  {
   "cell_type": "code",
   "execution_count": 74,
   "metadata": {},
   "outputs": [
    {
     "name": "stdout",
     "output_type": "stream",
     "text": [
      "enter lowerbound50\n",
      "enter upperbound100\n",
      "perfect number\n",
      "perfect number\n",
      "perfect number\n",
      "perfect number\n",
      "perfect number\n",
      "perfect number\n",
      "perfect number\n",
      "perfect number\n",
      "perfect number\n",
      "perfect number\n",
      "perfect number\n",
      "perfect number\n",
      "perfect number\n",
      "perfect number\n",
      "perfect number\n",
      "perfect number\n",
      "perfect number\n",
      "perfect number\n",
      "perfect number\n",
      "perfect number\n",
      "perfect number\n",
      "perfect number\n",
      "perfect number\n",
      "perfect number\n",
      "perfect number\n",
      "perfect number\n",
      "perfect number\n",
      "perfect number\n",
      "perfect number\n",
      "perfect number\n",
      "perfect number\n",
      "perfect number\n",
      "perfect number\n",
      "perfect number\n",
      "perfect number\n",
      "perfect number\n",
      "perfect number\n",
      "perfect number\n",
      "perfect number\n",
      "perfect number\n",
      "perfect number\n",
      "perfect number\n",
      "perfect number\n",
      "perfect number\n",
      "perfect number\n",
      "perfect number\n",
      "perfect number\n",
      "perfect number\n",
      "perfect number\n",
      "perfect number\n",
      "perfect number\n"
     ]
    }
   ],
   "source": [
    "##perfect numbers in given range\n",
    "def check():\n",
    "    lb=int(input(\"enter lowerbound\"))\n",
    "    ub=int(input(\"enter upperbound\"))\n",
    "    for i in range(lb,ub+1):\n",
    "          if perfect(i):\n",
    "                print(i)\n",
    "check()                "
   ]
  },
  {
   "cell_type": "code",
   "execution_count": 70,
   "metadata": {},
   "outputs": [
    {
     "name": "stdout",
     "output_type": "stream",
     "text": [
      "TRUE\n"
     ]
    }
   ],
   "source": [
    "#given two numbers if one of value is 10 return True or if sum is 10 return True\n",
    "def variable(a,b):\n",
    "    if((a+b==10) or (a==10) or (b==10)):\n",
    "        print(\"TRUE\")\n",
    "    else:\n",
    "        print(\"False\")\n",
    "variable(5,5)        "
   ]
  },
  {
   "cell_type": "code",
   "execution_count": 72,
   "metadata": {},
   "outputs": [
    {
     "name": "stdout",
     "output_type": "stream",
     "text": [
      "helloworld\n"
     ]
    }
   ],
   "source": [
    "#concatinating\n",
    "s1=\"hello\"\n",
    "s2=\"world\"\n",
    "print(s1+s2)"
   ]
  },
  {
   "cell_type": "code",
   "execution_count": 82,
   "metadata": {},
   "outputs": [
    {
     "name": "stdout",
     "output_type": "stream",
     "text": [
      "None\n",
      "[6, 7, 8, 9, 10]\n",
      "10\n",
      "6\n",
      "9\n"
     ]
    }
   ],
   "source": [
    "#li={10,9,8,7,6}\n",
    "##sort the list in ascending order\n",
    "#maximum element in the list\n",
    "#minimum element in the list\n",
    "##second largest element in that list\n",
    "def check():\n",
    "    li=[10,9,8,7,6]\n",
    "    print(li.sort())\n",
    "    print(li)\n",
    "    print(max(li))\n",
    "    print(min(li))\n",
    "    print(li[-2])\n",
    "check()"
   ]
  },
  {
   "cell_type": "code",
   "execution_count": 83,
   "metadata": {},
   "outputs": [
    {
     "name": "stdout",
     "output_type": "stream",
     "text": [
      "[2, 3, 4]\n"
     ]
    }
   ],
   "source": [
    "def li():\n",
    "    li=[2,3,4,2,3,4]\n",
    "    l=[]\n",
    "    for i in li:\n",
    "        if i not in l:\n",
    "            l.append(i)\n",
    "    print(l)\n",
    "li()    "
   ]
  },
  {
   "cell_type": "code",
   "execution_count": 28,
   "metadata": {},
   "outputs": [
    {
     "ename": "AttributeError",
     "evalue": "'function' object has no attribute 'sort'",
     "output_type": "error",
     "traceback": [
      "\u001b[1;31m---------------------------------------------------------------------------\u001b[0m",
      "\u001b[1;31mAttributeError\u001b[0m                            Traceback (most recent call last)",
      "\u001b[1;32m<ipython-input-28-6686c7f0afd2>\u001b[0m in \u001b[0;36m<module>\u001b[1;34m()\u001b[0m\n\u001b[0;32m      7\u001b[0m             \u001b[0ml\u001b[0m\u001b[1;33m.\u001b[0m\u001b[0mappend\u001b[0m\u001b[1;33m(\u001b[0m\u001b[0ml\u001b[0m\u001b[1;33m)\u001b[0m\u001b[1;33m\u001b[0m\u001b[0m\n\u001b[0;32m      8\u001b[0m     \u001b[0mprint\u001b[0m\u001b[1;33m(\u001b[0m\u001b[0mli\u001b[0m\u001b[1;33m)\u001b[0m\u001b[1;33m\u001b[0m\u001b[0m\n\u001b[1;32m----> 9\u001b[1;33m \u001b[0mprint\u001b[0m\u001b[1;33m(\u001b[0m\u001b[0mli\u001b[0m\u001b[1;33m.\u001b[0m\u001b[0msort\u001b[0m\u001b[1;33m(\u001b[0m\u001b[1;33m)\u001b[0m\u001b[1;33m)\u001b[0m\u001b[1;33m\u001b[0m\u001b[0m\n\u001b[0m\u001b[0;32m     10\u001b[0m \u001b[0mprint\u001b[0m\u001b[1;33m(\u001b[0m\u001b[0mmax\u001b[0m\u001b[1;33m(\u001b[0m\u001b[0mli\u001b[0m\u001b[1;33m)\u001b[0m\u001b[1;33m)\u001b[0m\u001b[1;33m\u001b[0m\u001b[0m\n\u001b[0;32m     11\u001b[0m \u001b[0mprint\u001b[0m\u001b[1;33m(\u001b[0m\u001b[0mmin\u001b[0m\u001b[1;33m(\u001b[0m\u001b[0mli\u001b[0m\u001b[1;33m)\u001b[0m\u001b[1;33m)\u001b[0m\u001b[1;33m\u001b[0m\u001b[0m\n",
      "\u001b[1;31mAttributeError\u001b[0m: 'function' object has no attribute 'sort'"
     ]
    }
   ],
   "source": [
    "##k=[2,4,4,4,6,6,3] to print unique list ,sort the list,max,min,2nd larg\n",
    "def li():\n",
    "    li=[2,4,4,4,6,6,3]\n",
    "    l=[]\n",
    "    for i in li:\n",
    "        if i not in l:\n",
    "            l.append(l)\n",
    "    print(li)\n",
    "print(li.sort())\n",
    "print(max(li))\n",
    "print(min(li))\n",
    "print(li[-2])"
   ]
  },
  {
   "cell_type": "code",
   "execution_count": 15,
   "metadata": {},
   "outputs": [],
   "source": []
  },
  {
   "cell_type": "code",
   "execution_count": null,
   "metadata": {},
   "outputs": [],
   "source": []
  }
 ],
 "metadata": {
  "kernelspec": {
   "display_name": "Python 3",
   "language": "python",
   "name": "python3"
  },
  "language_info": {
   "codemirror_mode": {
    "name": "ipython",
    "version": 3
   },
   "file_extension": ".py",
   "mimetype": "text/x-python",
   "name": "python",
   "nbconvert_exporter": "python",
   "pygments_lexer": "ipython3",
   "version": "3.6.5"
  }
 },
 "nbformat": 4,
 "nbformat_minor": 2
}
