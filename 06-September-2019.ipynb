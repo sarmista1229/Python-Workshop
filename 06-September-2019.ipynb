{
 "cells": [
  {
   "cell_type": "markdown",
   "metadata": {},
   "source": [
    "# Day Objectives\n",
    "\n",
    "## 1.Creating contacts using dictionaries\n",
    "\n",
    "## 2.Searching for a contact\n",
    "\n",
    "## 3.Packages and Modules\n",
    "\n",
    "## 4.Regular Expressions\n",
    "\n",
    "## 5.File Handling"
   ]
  },
  {
   "cell_type": "code",
   "execution_count": 20,
   "metadata": {},
   "outputs": [
    {
     "data": {
      "text/plain": [
       "{'k1': 'name', 'k2': 'age', 'k3': 'number'}"
      ]
     },
     "execution_count": 20,
     "metadata": {},
     "output_type": "execute_result"
    }
   ],
   "source": [
    "dict={'k1':'name','k2':'age','k3':'number'}\n",
    "dict      "
   ]
  },
  {
   "cell_type": "code",
   "execution_count": 23,
   "metadata": {},
   "outputs": [
    {
     "data": {
      "text/plain": [
       "dict_items([('k1', 'name'), ('k2', 'age'), ('k3', 'number')])"
      ]
     },
     "execution_count": 23,
     "metadata": {},
     "output_type": "execute_result"
    }
   ],
   "source": [
    "dict.items()"
   ]
  },
  {
   "cell_type": "code",
   "execution_count": 25,
   "metadata": {
    "scrolled": true
   },
   "outputs": [
    {
     "name": "stdout",
     "output_type": "stream",
     "text": [
      "Contact added succefully\n"
     ]
    }
   ],
   "source": [
    "## Adding a contact\n",
    "## name,phone number\n",
    "contacts={}\n",
    "def addcontacts(name, phonenumber):\n",
    "    if name not in contacts:\n",
    "        contacts[name]=phonenumber\n",
    "        print(\"Contact added succefully\")\n",
    "    else:\n",
    "        print(\"contact already exists\")\n",
    "addcontacts('name1',9440117117)       "
   ]
  },
  {
   "cell_type": "code",
   "execution_count": 26,
   "metadata": {},
   "outputs": [
    {
     "data": {
      "text/plain": [
       "{'name1': 9440117117}"
      ]
     },
     "execution_count": 26,
     "metadata": {},
     "output_type": "execute_result"
    }
   ],
   "source": [
    "contacts"
   ]
  },
  {
   "cell_type": "code",
   "execution_count": 27,
   "metadata": {},
   "outputs": [
    {
     "name": "stdout",
     "output_type": "stream",
     "text": [
      "name1 : 9440117117\n",
      "Doesnot exists\n"
     ]
    }
   ],
   "source": [
    "## using key \"name\"\n",
    "def searchcontact(name):\n",
    "    if name in contacts:\n",
    "        print(name,\":\",contacts[name])\n",
    "    else:\n",
    "        print(\"Doesnot exists\")\n",
    "searchcontact('name1') \n",
    "searchcontact('name2')"
   ]
  },
  {
   "cell_type": "code",
   "execution_count": 29,
   "metadata": {},
   "outputs": [
    {
     "name": "stdout",
     "output_type": "stream",
     "text": [
      "2 contact added succefully\n"
     ]
    }
   ],
   "source": [
    "##merging two contacts\n",
    "##using update method\n",
    "def mergecontacts(newcontacts):\n",
    "    contacts.update(newcontacts)\n",
    "    print(len(newcontacts.keys()),\"contact added succefully\")\n",
    "newcontacts={'name2':9491998777,'name3':9440000557}\n",
    "mergecontacts(newcontacts)\n"
   ]
  },
  {
   "cell_type": "code",
   "execution_count": 30,
   "metadata": {},
   "outputs": [
    {
     "data": {
      "text/plain": [
       "{'name2': 9491998777, 'name3': 9440000557}"
      ]
     },
     "execution_count": 30,
     "metadata": {},
     "output_type": "execute_result"
    }
   ],
   "source": [
    "newcontacts"
   ]
  },
  {
   "cell_type": "code",
   "execution_count": 33,
   "metadata": {},
   "outputs": [
    {
     "name": "stdout",
     "output_type": "stream",
     "text": [
      "Contact added succefully\n"
     ]
    }
   ],
   "source": [
    "## Dictionary:Mobilecontacts\n",
    "## Add a contact\n",
    "## Key:'a',value:9989878478\n",
    "## Another Dictionary:Applemobile\n",
    "## Key:'b',value:9998997047\n",
    "mobilecontact={}\n",
    "def addcontact(mobilecontact):\n",
    "    if name not in contacts:\n",
    "        contacts[name]=phonenumber\n",
    "        print(\"Contact added succefully\")\n",
    "    else:\n",
    "        print(\"contact already exists\")\n",
    "addcontacts('a',9989878478)  \n",
    "    "
   ]
  },
  {
   "cell_type": "code",
   "execution_count": 34,
   "metadata": {},
   "outputs": [
    {
     "name": "stdout",
     "output_type": "stream",
     "text": [
      "Contact added succefully\n"
     ]
    }
   ],
   "source": [
    "applemobile={}\n",
    "def addcontact(name,phonenumber):\n",
    "    if name not in applemobile:\n",
    "        applemobile[name]=phonenumber\n",
    "        print(\"Contact added succefully\")\n",
    "    else:\n",
    "        print(\"contact already exists\")\n",
    "addcontacts('b',9998997047)  \n",
    "    "
   ]
  },
  {
   "cell_type": "markdown",
   "metadata": {},
   "source": [
    "# Packages and Module\n",
    "\n",
    "## Package->Collection of moudules\n",
    "\n",
    "## Module->Collection of functions"
   ]
  },
  {
   "cell_type": "code",
   "execution_count": 40,
   "metadata": {},
   "outputs": [
    {
     "data": {
      "text/plain": [
       "123"
      ]
     },
     "execution_count": 40,
     "metadata": {},
     "output_type": "execute_result"
    }
   ],
   "source": [
    "from math import floor\n",
    "floor(123.1234)"
   ]
  },
  {
   "cell_type": "code",
   "execution_count": 53,
   "metadata": {},
   "outputs": [
    {
     "data": {
      "text/plain": [
       "True"
      ]
     },
     "execution_count": 53,
     "metadata": {},
     "output_type": "execute_result"
    }
   ],
   "source": [
    "def prime(n):\n",
    "    for i in range(2,n):\n",
    "        if (n%i==0):\n",
    "            return False\n",
    "    return True\n",
    "prime(3)"
   ]
  },
  {
   "cell_type": "code",
   "execution_count": 60,
   "metadata": {},
   "outputs": [
    {
     "data": {
      "text/plain": [
       "False"
      ]
     },
     "execution_count": 60,
     "metadata": {},
     "output_type": "execute_result"
    }
   ],
   "source": [
    "import Packages\n",
    "prime(10)"
   ]
  },
  {
   "cell_type": "code",
   "execution_count": 69,
   "metadata": {},
   "outputs": [
    {
     "name": "stdout",
     "output_type": "stream",
     "text": [
      "82\n",
      "9\n",
      "51\n",
      "76\n",
      "90\n",
      "32\n",
      "67\n",
      "1\n",
      "50\n",
      "69\n"
     ]
    }
   ],
   "source": [
    "## Generating marks using \"random\" prebuilt function\n",
    "import random\n",
    "def generatemarks(n,lb,ub):\n",
    "    for i in range(0,n):\n",
    "        print(random.randint(lb,ub))\n",
    "generatemarks(10,0,100)        "
   ]
  },
  {
   "cell_type": "code",
   "execution_count": 71,
   "metadata": {},
   "outputs": [
    {
     "name": "stdout",
     "output_type": "stream",
     "text": [
      "77\n",
      "49\n",
      "58\n",
      "24\n",
      "24\n",
      "90\n",
      "13\n",
      "20\n",
      "5\n",
      "96\n",
      "40\n",
      "85\n",
      "78\n",
      "40\n",
      "100\n",
      "31\n",
      "12\n",
      "41\n",
      "50\n",
      "85\n",
      "44\n",
      "1\n",
      "88\n",
      "13\n",
      "7\n"
     ]
    }
   ],
   "source": [
    "##generate marks for 25 member of students\n",
    "import random\n",
    "def generatemarks(n,lb,ub):\n",
    "    for i in range(0,n):\n",
    "        print(random.randint(lb,ub))\n",
    "generatemarks(25,0,100)        "
   ]
  },
  {
   "cell_type": "markdown",
   "metadata": {},
   "source": [
    "# Regular Expressions [def]\n",
    "\n",
    "It is a sequence of charecters that match a pattern in a symbolic representation. To use regular expression we have to import regular expressions while writing a program\n",
    "      \n",
    "   ## Regular Expressions\n",
    "         \n",
    "       -> [0,9] -> Any digit\n",
    "       -> [a,z] -> Any lower case alphabet\n",
    "       -> [2468]-> All single digit multiples of 2\n",
    "       -> ^[0-9]{1}$ only single digit numbers\n",
    "   -> ^[0-9]{3}$ only 3 digit numbers\n",
    "       -> [0-9]*0$->All multiples of 10\n",
    "       -> ^([1-9][0-9]*[05])|[5])-> All multiples of 5\n",
    "       -> [w][o][r][d] or (word)->Searching of a 'word'"
   ]
  },
  {
   "cell_type": "markdown",
   "metadata": {},
   "source": [
    "#### Phone Number: Pattern =^[6-9][0-9]{9}$"
   ]
  },
  {
   "cell_type": "code",
   "execution_count": 81,
   "metadata": {},
   "outputs": [
    {
     "name": "stdout",
     "output_type": "stream",
     "text": [
      "valid\n"
     ]
    }
   ],
   "source": [
    "## Function for phonenumber validation using\n",
    "## Regular Expression\n",
    "import re\n",
    "def phonenumbervalidator(number):\n",
    "    pattern='^[6-9][0-9]{9}$'\n",
    "    if re.match(pattern,number):\n",
    "        print(\"valid\")\n",
    "    else:\n",
    "        print(\"Invalid\")\n",
    "phonenumbervalidator(\"9440000557\")"
   ]
  },
  {
   "cell_type": "code",
   "execution_count": 83,
   "metadata": {},
   "outputs": [
    {
     "name": "stdout",
     "output_type": "stream",
     "text": [
      "Invalid\n"
     ]
    }
   ],
   "source": [
    "phonenumbervalidator(\"011987456128\")"
   ]
  },
  {
   "cell_type": "markdown",
   "metadata": {},
   "source": [
    "#### Gmail: Pattern =^[a-z0-9][a-z0-9_.]{3,18}[@][a-z0-9]{4,18}"
   ]
  },
  {
   "cell_type": "code",
   "execution_count": 184,
   "metadata": {},
   "outputs": [
    {
     "name": "stdout",
     "output_type": "stream",
     "text": [
      "valid\n",
      "Invalid\n"
     ]
    }
   ],
   "source": [
    "## Function for email validation using\n",
    "## Regular Expression\n",
    "## Pattern =^[a-z0-9][a-z0-9_.]{3,18}[@][a-z0-9]{4,18}\n",
    "##[.][a-z]{2,4}\n",
    "import re\n",
    "def emailvalidator(username):\n",
    "    pattern='^[a-z0-9][a-z0-9_.]{3,18}[@][a-z0-9]{4,18}[.][a-z]{2,4}$'\n",
    "    if re.match(pattern,username):\n",
    "        print(\"valid\")\n",
    "    else:\n",
    "        print(\"Invalid\")\n",
    "emailvalidator(\"ppriya_@gmail.com\")\n",
    "emailvalidator(\"pp.gmailcom\")"
   ]
  },
  {
   "cell_type": "markdown",
   "metadata": {},
   "source": [
    "# File Handling\n",
    "\n",
    "-> It's collection of related information\n",
    "-> basic steps\n",
    "     - Opening a file\n",
    "     - performing operations(read,write,append)\n",
    "     - closing a file"
   ]
  },
  {
   "cell_type": "markdown",
   "metadata": {},
   "source": [
    "## syntax: file_obj=open(\"filepath\",\"mode\")"
   ]
  },
  {
   "cell_type": "code",
   "execution_count": 124,
   "metadata": {},
   "outputs": [
    {
     "name": "stdout",
     "output_type": "stream",
     "text": [
      "Line 1\n",
      "Line 2\n",
      "Line 3\n",
      "Line 4\n"
     ]
    }
   ],
   "source": [
    "f=open(\"DataFiles/data.txt\",\"r\")\n",
    "print(f.read())\n",
    "f.close()"
   ]
  },
  {
   "cell_type": "code",
   "execution_count": 131,
   "metadata": {},
   "outputs": [
    {
     "name": "stdout",
     "output_type": "stream",
     "text": [
      "6\n",
      "25\n",
      "0\n"
     ]
    }
   ],
   "source": [
    "with open(\"DataFiles/data.txt\",'a+') as f:\n",
    "    f.read()\n",
    "    print(f.tell())\n",
    "    f.write(\"Line2\\nLine3\\nLine4\")\n",
    "    print(f.tell())\n",
    "    f.seek(0)\n",
    "    print(f.tell())"
   ]
  },
  {
   "cell_type": "code",
   "execution_count": 132,
   "metadata": {},
   "outputs": [
    {
     "name": "stdout",
     "output_type": "stream",
     "text": [
      "['Line 5Line2\\n', 'Line3\\n', 'Line4']\n"
     ]
    }
   ],
   "source": [
    "with open(\"DataFiles/data.txt\") as f:\n",
    "    print(f.readlines())"
   ]
  },
  {
   "cell_type": "code",
   "execution_count": 136,
   "metadata": {},
   "outputs": [
    {
     "name": "stdout",
     "output_type": "stream",
     "text": [
      "['Line', '5Line2', 'Line3', 'Line4', 'python', 'programming', 'level2', 'workshop', 'pyth$onprogrammin$gleve$l2', 'workshop']\n"
     ]
    }
   ],
   "source": [
    "with open(\"DataFiles/data.txt\")as f:\n",
    "    fh=f.read()\n",
    "    words=fh.split()\n",
    "    print(words)"
   ]
  },
  {
   "cell_type": "code",
   "execution_count": 139,
   "metadata": {},
   "outputs": [
    {
     "name": "stdout",
     "output_type": "stream",
     "text": [
      "Line 5Line2\n",
      "Line3\n",
      "Line4\n",
      " python programming level2 workshop\n",
      " pyth$onprogrammin$gleve$l2 workshop\n"
     ]
    }
   ],
   "source": [
    "def readfile(filepath):\n",
    "    with open(filepath,'r')as f:\n",
    "        filedata=f.read() #Reads the entire file data\n",
    "    return filedata\n",
    "filepath= 'DataFiles/data.txt'\n",
    "print(readfile(filepath))"
   ]
  },
  {
   "cell_type": "code",
   "execution_count": 140,
   "metadata": {},
   "outputs": [
    {
     "name": "stdout",
     "output_type": "stream",
     "text": [
      "5\n"
     ]
    }
   ],
   "source": [
    "def linecount(filename):\n",
    "    count=0\n",
    "    with open(filename,'r')as f:\n",
    "        for i in f:\n",
    "            count = count+1\n",
    "    return count\n",
    "filename = \"DataFiles/data.txt\"\n",
    "print(linecount(filename))"
   ]
  },
  {
   "cell_type": "code",
   "execution_count": 150,
   "metadata": {},
   "outputs": [
    {
     "name": "stdout",
     "output_type": "stream",
     "text": [
      "12\n"
     ]
    }
   ],
   "source": [
    "import re\n",
    "def wordcount(filepath):\n",
    "    pattern = '[ \\n ]'\n",
    "    filedata = readfile(filepath)\n",
    "    count= len(re.split(pattern,filedata))\n",
    "    return count\n",
    "filepath =\"DataFiles/data.txt\"\n",
    "print(wordcount(filepath))"
   ]
  },
  {
   "cell_type": "code",
   "execution_count": 149,
   "metadata": {},
   "outputs": [
    {
     "name": "stdout",
     "output_type": "stream",
     "text": [
      "8\n"
     ]
    }
   ],
   "source": [
    "import re\n",
    "def spacecount(filepath):\n",
    "    pattern = '[ \\t ]'\n",
    "    filedata = readfile(filepath)\n",
    "    count= len(re.split(pattern,filedata))\n",
    "    return count\n",
    "filepath =\"DataFiles/data.txt\"\n",
    "print(spacecount(filepath))"
   ]
  },
  {
   "cell_type": "code",
   "execution_count": 152,
   "metadata": {},
   "outputs": [
    {
     "name": "stdout",
     "output_type": "stream",
     "text": [
      "['Line', '5Line2', 'Line3', 'Line4', 'python', 'programming', 'level2', 'workshop', 'pyth$onprogrammin$gleve$l2', 'workshop', 'sun', 'sun', 'rat', 'cat', 'cat', 'sun']\n"
     ]
    }
   ],
   "source": [
    "import re\n",
    "with open(\"DataFiles/data.txt\",'r') as f:\n",
    "    fh = f.read()\n",
    "    words = fh.split()\n",
    "    print(words)"
   ]
  },
  {
   "cell_type": "code",
   "execution_count": 153,
   "metadata": {},
   "outputs": [
    {
     "name": "stdout",
     "output_type": "stream",
     "text": [
      "['Line', '5Line2', 'Line3', 'Line4', 'python', 'programming', 'level2', 'workshop', 'pyth$onprogrammin$gleve$l2', 'sun', 'rat', 'cat']\n"
     ]
    }
   ],
   "source": [
    "def unique():\n",
    "    unique=[]\n",
    "    with open(\"DataFiles/data.txt\",'r')as f:\n",
    "        filedata=f.read()\n",
    "        words=filedata.split()\n",
    "        for i in words:\n",
    "            if i not in unique:\n",
    "                unique.append(i)\n",
    "        print(unique)\n",
    "unique()        "
   ]
  },
  {
   "cell_type": "code",
   "execution_count": 168,
   "metadata": {},
   "outputs": [
    {
     "data": {
      "text/plain": [
       "{'Line': 1,\n",
       " '5Line2': 1,\n",
       " 'Line3': 1,\n",
       " 'Line4': 1,\n",
       " 'python': 1,\n",
       " 'programming': 1,\n",
       " 'level2': 1,\n",
       " 'workshop': 2,\n",
       " 'pyth$onprogrammin$gleve$l2': 1,\n",
       " 'sun': 3,\n",
       " 'rat': 1,\n",
       " 'cat': 2}"
      ]
     },
     "execution_count": 168,
     "metadata": {},
     "output_type": "execute_result"
    }
   ],
   "source": [
    "def wordfrequency(filepath):\n",
    "    with open(filepath,'r')as f:\n",
    "        data = f.read()\n",
    "        allwords = data.split()\n",
    "        wordfreq={}\n",
    "        for element in allwords:\n",
    "            if element not in wordfreq:\n",
    "                wordfreq[element]=1\n",
    "            else:\n",
    "                wordfreq[element]+=1\n",
    "        return wordfreq\n",
    "wordfrequency(filepath)          "
   ]
  },
  {
   "cell_type": "markdown",
   "metadata": {},
   "source": [
    "# Sets and its methods"
   ]
  },
  {
   "cell_type": "code",
   "execution_count": 170,
   "metadata": {},
   "outputs": [
    {
     "name": "stdout",
     "output_type": "stream",
     "text": [
      "{456, 234, 45, 'abd', 121, 122}\n"
     ]
    }
   ],
   "source": [
    "l=(121,\"abd\",456,234,122,45,\"abd\")\n",
    "print(set(l))"
   ]
  },
  {
   "cell_type": "markdown",
   "metadata": {},
   "source": [
    "# Set Methods\n",
    " \n",
    " ## add()\n",
    " \n",
    " ## union()\n",
    " \n",
    " ## intersection\n",
    " \n",
    " ## difference()\n",
    " \n",
    " ## update()"
   ]
  },
  {
   "cell_type": "code",
   "execution_count": 175,
   "metadata": {},
   "outputs": [
    {
     "name": "stdout",
     "output_type": "stream",
     "text": [
      "None\n"
     ]
    }
   ],
   "source": [
    "s1={\"abc\",2,\"priya\",123,123,\"priya\"}\n",
    "print(s1.add(\"123\"))"
   ]
  },
  {
   "cell_type": "code",
   "execution_count": 176,
   "metadata": {},
   "outputs": [
    {
     "name": "stdout",
     "output_type": "stream",
     "text": [
      "{'priya', 2, 122, 123, 'Qwe', 'wer', 'abc'}\n"
     ]
    }
   ],
   "source": [
    "s1={\"abc\",2,\"priya\",123,123,\"priya\"}\n",
    "s2={\"Qwe\",'wer',122}\n",
    "print(s1.union(s2))"
   ]
  },
  {
   "cell_type": "code",
   "execution_count": 177,
   "metadata": {},
   "outputs": [
    {
     "data": {
      "text/plain": [
       "['__and__',\n",
       " '__class__',\n",
       " '__contains__',\n",
       " '__delattr__',\n",
       " '__dir__',\n",
       " '__doc__',\n",
       " '__eq__',\n",
       " '__format__',\n",
       " '__ge__',\n",
       " '__getattribute__',\n",
       " '__gt__',\n",
       " '__hash__',\n",
       " '__iand__',\n",
       " '__init__',\n",
       " '__init_subclass__',\n",
       " '__ior__',\n",
       " '__isub__',\n",
       " '__iter__',\n",
       " '__ixor__',\n",
       " '__le__',\n",
       " '__len__',\n",
       " '__lt__',\n",
       " '__ne__',\n",
       " '__new__',\n",
       " '__or__',\n",
       " '__rand__',\n",
       " '__reduce__',\n",
       " '__reduce_ex__',\n",
       " '__repr__',\n",
       " '__ror__',\n",
       " '__rsub__',\n",
       " '__rxor__',\n",
       " '__setattr__',\n",
       " '__sizeof__',\n",
       " '__str__',\n",
       " '__sub__',\n",
       " '__subclasshook__',\n",
       " '__xor__',\n",
       " 'add',\n",
       " 'clear',\n",
       " 'copy',\n",
       " 'difference',\n",
       " 'difference_update',\n",
       " 'discard',\n",
       " 'intersection',\n",
       " 'intersection_update',\n",
       " 'isdisjoint',\n",
       " 'issubset',\n",
       " 'issuperset',\n",
       " 'pop',\n",
       " 'remove',\n",
       " 'symmetric_difference',\n",
       " 'symmetric_difference_update',\n",
       " 'union',\n",
       " 'update']"
      ]
     },
     "execution_count": 177,
     "metadata": {},
     "output_type": "execute_result"
    }
   ],
   "source": [
    "dir(set)"
   ]
  },
  {
   "cell_type": "code",
   "execution_count": 179,
   "metadata": {},
   "outputs": [
    {
     "name": "stdout",
     "output_type": "stream",
     "text": [
      "{123}\n"
     ]
    }
   ],
   "source": [
    "s1={\"abc\",2,\"priya\",123,123,\"priya\"}\n",
    "s2={\"Qwe\",'wer',122,123}\n",
    "print(s1.intersection(s2))"
   ]
  },
  {
   "cell_type": "code",
   "execution_count": 180,
   "metadata": {},
   "outputs": [
    {
     "name": "stdout",
     "output_type": "stream",
     "text": [
      "{'123', 'awe', 30}\n"
     ]
    }
   ],
   "source": [
    "s1={10,20,30,\"awe\",\"123\"}\n",
    "s2={10,20}\n",
    "print(s1.difference(s2))"
   ]
  },
  {
   "cell_type": "code",
   "execution_count": 181,
   "metadata": {},
   "outputs": [
    {
     "data": {
      "text/plain": [
       "{0, 122, '123', 20, 30, 'Qwe', 'awe', 'wer'}"
      ]
     },
     "execution_count": 181,
     "metadata": {},
     "output_type": "execute_result"
    }
   ],
   "source": [
    "s1={0,20,30,\"awe\",\"123\"}\n",
    "s2={\"Qwe\",'wer',122}\n",
    "s1.update(s2)\n",
    "s1"
   ]
  },
  {
   "cell_type": "code",
   "execution_count": 185,
   "metadata": {},
   "outputs": [
    {
     "data": {
      "text/plain": [
       "set()"
      ]
     },
     "execution_count": 185,
     "metadata": {},
     "output_type": "execute_result"
    }
   ],
   "source": [
    "s1={0,20,30,\"awe\",\"123\"}\n",
    "s1.clear()\n",
    "s1"
   ]
  },
  {
   "cell_type": "code",
   "execution_count": 10,
   "metadata": {},
   "outputs": [
    {
     "name": "stdout",
     "output_type": "stream",
     "text": [
      "enter a number3\n",
      "enter lowerbound5\n",
      "enter upperbound7\n",
      "3 x 5 = 15\n",
      "3 x 6 = 18\n",
      "3 x 7 = 21\n"
     ]
    }
   ],
   "source": [
    "##Tasks\n",
    "##program for generating multiplication table\n",
    "def multble(n,lb,ub):\n",
    "    n=int(input(\"enter a number\"))\n",
    "    lb=int(input(\"enter lowerbound\"))\n",
    "    ub=int(input(\"enter upperbound\"))\n",
    "    for i in range(lb,ub+1):\n",
    "        print(n,\"x\",i,\"=\",n*i)\n",
    "multble(3,5,7)            "
   ]
  },
  {
   "cell_type": "code",
   "execution_count": 11,
   "metadata": {},
   "outputs": [
    {
     "name": "stdout",
     "output_type": "stream",
     "text": [
      "enter a number3\n",
      "enter lowerbound5\n",
      "enter upperbound7\n",
      "3 + 5 = 8\n",
      "3 + 6 = 9\n",
      "3 + 7 = 10\n"
     ]
    }
   ],
   "source": [
    "def addi(n,lb,ub):\n",
    "    n=int(input(\"enter a number\"))\n",
    "    lb=int(input(\"enter lowerbound\"))\n",
    "    ub=int(input(\"enter upperbound\"))\n",
    "    for i in range(lb,ub+1):\n",
    "        print(n,\"+\",i,\"=\",n+i)\n",
    "addi(3,5,7) "
   ]
  },
  {
   "cell_type": "code",
   "execution_count": null,
   "metadata": {},
   "outputs": [],
   "source": []
  }
 ],
 "metadata": {
  "kernelspec": {
   "display_name": "Python 3",
   "language": "python",
   "name": "python3"
  },
  "language_info": {
   "codemirror_mode": {
    "name": "ipython",
    "version": 3
   },
   "file_extension": ".py",
   "mimetype": "text/x-python",
   "name": "python",
   "nbconvert_exporter": "python",
   "pygments_lexer": "ipython3",
   "version": "3.6.5"
  }
 },
 "nbformat": 4,
 "nbformat_minor": 2
}
